{
  "nbformat": 4,
  "nbformat_minor": 0,
  "metadata": {
    "colab": {
      "provenance": []
    },
    "kernelspec": {
      "name": "python3",
      "display_name": "Python 3"
    },
    "language_info": {
      "name": "python"
    }
  },
  "cells": [
    {
      "cell_type": "markdown",
      "source": [
        "# **Assignment 4**\n",
        "###E/19/346\n",
        "###S.M.T.N. SAMARATHUNGE\n",
        "###EM 317"
      ],
      "metadata": {
        "id": "rZvzoEv7ZZy8"
      }
    },
    {
      "cell_type": "markdown",
      "source": [
        "## **Problem 1**"
      ],
      "metadata": {
        "id": "99UNvHaZ2kEW"
      }
    },
    {
      "cell_type": "markdown",
      "source": [
        "**(i) Proving that the interval $[-1,1]$ contains only a single root of the function:**\\\n",
        "\\\n",
        " $$ f(x) = 0.5x e^{-0.5x} + 0.5 $$\n",
        " To prove that the interval $[-1,1]$ contains only a single root of $ f(x) $, we need to show that the function is either strictly increasing or strictly decreasing in this interval, considering the sign change of first derivative within $[-1,1]$.\n",
        "\n",
        "$$ f'(x) = -0.25x e^{-0.5x} + 0.5 e^{-0.5x} $$\n"
      ],
      "metadata": {
        "id": "gLexxd4Tpcpi"
      }
    },
    {
      "cell_type": "markdown",
      "source": [
        "Checking the sign of $f'(x)$ over the interval $[-1,1]$"
      ],
      "metadata": {
        "id": "O98IdYwJSfz8"
      }
    },
    {
      "cell_type": "code",
      "source": [
        "from sympy import symbols, exp, diff\n",
        "\n",
        "x = symbols('x')\n",
        "f = 0.5*x * exp(-0.5*x) + 1/2\n",
        "\n",
        "# First derivative of the function\n",
        "f_prime = diff(f, x)\n",
        "\n",
        "f, f_prime"
      ],
      "metadata": {
        "colab": {
          "base_uri": "https://localhost:8080/"
        },
        "id": "K9PegW-ASa3D",
        "outputId": "0442899f-c52d-4120-c0c7-f2c4c8e5c83a"
      },
      "execution_count": 1,
      "outputs": [
        {
          "output_type": "execute_result",
          "data": {
            "text/plain": [
              "(0.5*x*exp(-0.5*x) + 0.5, -0.25*x*exp(-0.5*x) + 0.5*exp(-0.5*x))"
            ]
          },
          "metadata": {},
          "execution_count": 1
        }
      ]
    },
    {
      "cell_type": "markdown",
      "source": [
        "Evaluating the sign of $ f'(x) $ in the subintervals $[-1, 0]$ and $[0, 1]$"
      ],
      "metadata": {
        "id": "19nSJiE0TSUi"
      }
    },
    {
      "cell_type": "code",
      "source": [
        "from sympy import solve\n",
        "\n",
        "# Finding critical points of f'(x) in the interval [-1, 1]\n",
        "critical_points = solve(f_prime, x)\n",
        "critical_points_in_interval = [cp for cp in critical_points if cp.is_real and -1 <= cp <= 1]\n",
        "\n",
        "critical_points_in_interval"
      ],
      "metadata": {
        "colab": {
          "base_uri": "https://localhost:8080/"
        },
        "id": "-FoODPx1TfjK",
        "outputId": "1968c20e-35cc-474e-e0cf-bb215a3b0bfc"
      },
      "execution_count": 2,
      "outputs": [
        {
          "output_type": "execute_result",
          "data": {
            "text/plain": [
              "[]"
            ]
          },
          "metadata": {},
          "execution_count": 2
        }
      ]
    },
    {
      "cell_type": "code",
      "source": [
        "from sympy import N\n",
        "\n",
        "# Evaluating the sign of f'(x) in the subintervals\n",
        "sign_in_subintervals = []\n",
        "\n",
        "for point in [-1, 1]:\n",
        "    sign_in_subintervals.append(N(f_prime.subs(x, point)))\n",
        "\n",
        "sign_in_subintervals"
      ],
      "metadata": {
        "colab": {
          "base_uri": "https://localhost:8080/"
        },
        "id": "zezvtLxFdhzg",
        "outputId": "1812fdc5-8ae4-4112-9433-ae6ac7333b65"
      },
      "execution_count": 3,
      "outputs": [
        {
          "output_type": "execute_result",
          "data": {
            "text/plain": [
              "[1.23654095302510, 0.151632664928158]"
            ]
          },
          "metadata": {},
          "execution_count": 3
        }
      ]
    },
    {
      "cell_type": "markdown",
      "source": [
        "The sign of $f'(x)$ at the points $-1$ and $1$  are;\n",
        "$$ At\\ x= -1,\\ f'(x)\\ is\\ positive$$\n",
        "$$At\\ x= 1,\\ f'(x)\\ is\\ positive$$\n",
        "\n",
        "This shows that $ f(x) $ is strictly increasing, confirming a single root in $[-1,1]$.\n"
      ],
      "metadata": {
        "id": "i2EUU9rYo2kK"
      }
    },
    {
      "cell_type": "markdown",
      "source": [
        "**(ii) Using the bisection method to approximate the root with four iterations:**"
      ],
      "metadata": {
        "id": "-jnyAVS7OilN"
      }
    },
    {
      "cell_type": "code",
      "source": [
        "def bisection_method(f, a, b, iterations):\n",
        "    \"\"\"\n",
        "    Performing the bisection method on the function f, starting with the interval [a, b].\n",
        "    The method is performed for a specified number of iterations.\n",
        "    \"\"\"\n",
        "    for i in range(iterations):\n",
        "        mid_point = (a + b) / 2\n",
        "        if f.subs(x, a) * f.subs(x, mid_point) < 0:\n",
        "            b = mid_point\n",
        "        else:\n",
        "            a = mid_point\n",
        "    return mid_point\n",
        "\n",
        "# Approximating the root using the bisection method for four iterations\n",
        "approximated_root = bisection_method(f, -1, 1, 4)\n",
        "approximated_root"
      ],
      "metadata": {
        "colab": {
          "base_uri": "https://localhost:8080/"
        },
        "id": "pCAcS1HKdpkl",
        "outputId": "54ba474d-4bb6-4721-e451-4aea020e1ae0"
      },
      "execution_count": 4,
      "outputs": [
        {
          "output_type": "execute_result",
          "data": {
            "text/plain": [
              "-0.625"
            ]
          },
          "metadata": {},
          "execution_count": 4
        }
      ]
    },
    {
      "cell_type": "markdown",
      "source": [
        "Starting with the interval $[-1,1]$, after four iterations of the bisection method, the approximated root is:\n",
        "\n",
        "$$ \\text{Approximated Root} \\approx -0.625$$"
      ],
      "metadata": {
        "id": "yRo3P-tcpHTL"
      }
    },
    {
      "cell_type": "markdown",
      "source": [
        "**(iii) Giving an error bound for the approximation:**"
      ],
      "metadata": {
        "id": "ArEixPfTpm86"
      }
    },
    {
      "cell_type": "code",
      "source": [
        "# Calculating the error bound\n",
        "initial_interval_length = 1 - (-1)  # b - a\n",
        "iterations = 4\n",
        "error_bound = initial_interval_length / (2**iterations)\n",
        "error_bound"
      ],
      "metadata": {
        "colab": {
          "base_uri": "https://localhost:8080/"
        },
        "id": "c_X1p-EChMdV",
        "outputId": "2f7b8b73-42a9-4114-d559-aa776fdc4b23"
      },
      "execution_count": 5,
      "outputs": [
        {
          "output_type": "execute_result",
          "data": {
            "text/plain": [
              "0.125"
            ]
          },
          "metadata": {},
          "execution_count": 5
        }
      ]
    },
    {
      "cell_type": "markdown",
      "source": [
        "Providing an error bound for the approximation\n",
        "The error bound after four iterations is calculated as:\n",
        "\n",
        "$$ \\text{Error Bound} = \\frac{b - a}{2^n} = \\frac{1 - (-1)}{2^4} = 0.125 $$\n"
      ],
      "metadata": {
        "id": "TU25vfDB3DdF"
      }
    },
    {
      "cell_type": "markdown",
      "source": [
        "**(iv) Determining the number of iterations required to guarantee an error less than $10^{-6}$ :**"
      ],
      "metadata": {
        "id": "7LvA7Uespr1q"
      }
    },
    {
      "cell_type": "code",
      "source": [
        "def f(x):\n",
        "    return  0.5*x * exp(-0.5*x) + 1/2\n",
        "\n",
        "def bisection_method_tol(f, a, b, tolerance):\n",
        "\n",
        "    iterations = 0\n",
        "    while abs(b - a) > tolerance:\n",
        "        mid_point = (a + b) / 2\n",
        "        if f(a) * f(mid_point) < 0:\n",
        "            b = mid_point\n",
        "        else:\n",
        "            a = mid_point\n",
        "        iterations += 1\n",
        "    return mid_point, iterations\n",
        "\n",
        "a, b = -1, 1\n",
        "\n",
        "# Tolerance level\n",
        "tolerance = 10**(-6)\n",
        "\n",
        "# Applying Bisection Method\n",
        "root, iterations = bisection_method_tol(f, a, b, tolerance)\n",
        "\n",
        "print(f\"Number of iterations needed to guarantee an error less than {tolerance}: {iterations}\")\n"
      ],
      "metadata": {
        "colab": {
          "base_uri": "https://localhost:8080/"
        },
        "id": "_fTRGLdnjZqT",
        "outputId": "c4f69387-8742-4cc4-fe48-08f673bed816"
      },
      "execution_count": 6,
      "outputs": [
        {
          "output_type": "stream",
          "name": "stdout",
          "text": [
            "Number of iterations needed to guarantee an error less than 1e-06: 21\n"
          ]
        }
      ]
    },
    {
      "cell_type": "markdown",
      "source": [
        "To achieve an error less than $10^{-6}$, the required number of iterations is $21$."
      ],
      "metadata": {
        "id": "csyi61RF3LLL"
      }
    },
    {
      "cell_type": "markdown",
      "source": [
        "## **Problem 2**"
      ],
      "metadata": {
        "id": "VdbBMy5A3SWk"
      }
    },
    {
      "cell_type": "markdown",
      "source": [
        "**(i) Finding all solutions of $f(x) = e^{2x} - x - 6 $, correct to 4 decimal places using appropriate initial conditions:**\\\n",
        "\\\n",
        "$$f(x) = e^{2x} - x - 6 $$ $$\n",
        "f'(x) =  2e^{2x} - 1 $$\n",
        "\n",
        "Newton's method estimates the root using the formula:\n",
        "$$ x_{n+1} = x_n - \\frac{f(x_n)}{f'(x_n)} $$\n"
      ],
      "metadata": {
        "id": "felZU9wy3jv8"
      }
    },
    {
      "cell_type": "code",
      "source": [
        "from sympy import symbols, diff, solve\n",
        "\n",
        "x = symbols('x')\n",
        "f_2i = exp(2*x) -x - 6\n",
        "f_2i_prime = diff(f_2i, x)\n",
        "\n",
        "# Finding the real roots of the equation symbolically\n",
        "real_roots = solve(f_2i, x)\n",
        "real_roots = [root.evalf() for root in real_roots]  # Converting to numerical values\n",
        "\n",
        "real_roots"
      ],
      "metadata": {
        "colab": {
          "base_uri": "https://localhost:8080/"
        },
        "id": "VbW_1Vv3rttK",
        "outputId": "12b053a3-4098-4212-e48f-0e2ed595391a"
      },
      "execution_count": 7,
      "outputs": [
        {
          "output_type": "execute_result",
          "data": {
            "text/plain": [
              "[-5.99999385571214, 0.970870020275800]"
            ]
          },
          "metadata": {},
          "execution_count": 7
        }
      ]
    },
    {
      "cell_type": "markdown",
      "source": [
        "The real roots of the equation $ e^{2x} - x - 6 = 0 $ are approximately $ x \\approx -6.0000,0.9709 $."
      ],
      "metadata": {
        "id": "LAdx6hXG3Y2b"
      }
    },
    {
      "cell_type": "markdown",
      "source": [
        "Using Newton's method to approximate the real roots to 4 decimal places\n"
      ],
      "metadata": {
        "id": "HoAT3qnpz4kX"
      }
    },
    {
      "cell_type": "code",
      "source": [
        "# Newton's method\n",
        "def newtons_method(f, f_prime, initial_guess, tolerance=1e-4):\n",
        "    x_n = initial_guess\n",
        "    iterations = 0\n",
        "    while True:\n",
        "        x_next = x_n - f.subs(x, x_n) / f_prime.subs(x, x_n)\n",
        "        iterations += 1\n",
        "        if abs(x_next - x_n) < tolerance:\n",
        "            return x_next, iterations\n",
        "        x_n = x_next\n",
        "\n",
        "# Apply Newton's method with the initial guess close to the real root -6.0000\n",
        "initial_guess = -5.5\n",
        "approximated_root, num_iterations = newtons_method(f_2i, f_2i_prime, initial_guess)\n",
        "\n",
        "print(initial_guess)\n",
        "print(approximated_root)\n",
        "print(num_iterations,\"\\n\")\n",
        "\n",
        "# Apply Newton's method with the initial guess close to the real root 0.9709\n",
        "initial_guess = 0.7\n",
        "approximated_root, num_iterations = newtons_method(f_2i, f_2i_prime, initial_guess)\n",
        "\n",
        "print(initial_guess)\n",
        "print(approximated_root)\n",
        "print(num_iterations)"
      ],
      "metadata": {
        "colab": {
          "base_uri": "https://localhost:8080/"
        },
        "id": "Yg8B5lP43gVc",
        "outputId": "271ac0ed-e63b-4029-e953-9e0079dc6930"
      },
      "execution_count": 8,
      "outputs": [
        {
          "output_type": "stream",
          "name": "stdout",
          "text": [
            "-5.5\n",
            "-5.99999385571214\n",
            "2 \n",
            "\n",
            "0.7\n",
            "0.970870020275800\n",
            "5\n"
          ]
        }
      ]
    },
    {
      "cell_type": "markdown",
      "source": [
        "The approximate real roots of the equation $ e^{2x} - x - 6 = 0 $ obtained using Newton's method with an,\n",
        "\n",
        "*   Initial guess of $-5.5$ is $ x \\approx -6.0000 $, was reached in 2 iterations, accurate to 4 decimal places.\n",
        "\n",
        "*   Initial guess of $0.7$ is $ x \\approx 0.9709 $, was reached in just 5 iterations, accurate to 4 decimal places."
      ],
      "metadata": {
        "id": "xJSHD8NR3iAs"
      }
    },
    {
      "cell_type": "markdown",
      "source": [
        "**(ii) Approximating a solution to $ f(x) = -x^3 + 4x^2 - 2x + 2 $  starting from $ x = 0 $:**\\\n",
        "\\\n",
        "$$ f(x) = -x^3 + 4x^2 - 2x + 2 $$\n",
        "$$ f'(x) = -3x^2 + 8x - 2 $$\n"
      ],
      "metadata": {
        "id": "SL8BztvL3n50"
      }
    },
    {
      "cell_type": "markdown",
      "source": [
        "Using Newton's method starting with an initial guess of $ x = 0 $"
      ],
      "metadata": {
        "id": "4XC9g68L2GpT"
      }
    },
    {
      "cell_type": "code",
      "source": [
        "f_2ii = -x**3 + 4*x**2 - 2*x + 2\n",
        "f_2ii_prime = diff(f_2ii, x)\n",
        "\n",
        "# Applying Newton's method with the initial guess x = 3.4\n",
        "initial_guess_2ii = 3.4\n",
        "approximated_root_2ii, num_iterations_2ii = newtons_method(f_2ii, f_2ii_prime, initial_guess_2ii)\n",
        "approximated_root_2ii, num_iterations_2ii"
      ],
      "metadata": {
        "id": "E3rept7t3pnM",
        "colab": {
          "base_uri": "https://localhost:8080/"
        },
        "outputId": "7b24514d-9437-4341-ee21-99e27b16ee05"
      },
      "execution_count": 9,
      "outputs": [
        {
          "output_type": "execute_result",
          "data": {
            "text/plain": [
              "(3.59867450788156, 4)"
            ]
          },
          "metadata": {},
          "execution_count": 9
        }
      ]
    },
    {
      "cell_type": "markdown",
      "source": [
        "When using Newton's method with an initial guess of $ x =0, $ it does not converges to the answer.\n",
        "\\\n",
        "However, when the initial guess is $x=3.4$, the solution to $ -x^3 + 4x^2 - 2x + 2 = 0 $ is approximately $ x \\approx 3.5987 $ and this was reached in 4 iterations.\n"
      ],
      "metadata": {
        "id": "rt5Bpa583sP7"
      }
    },
    {
      "cell_type": "markdown",
      "source": [
        "**(iii) Approximating solutions of  $ f(x) = x^3 - 3x^2 + 2x$ starting at $ x = 1.4, 1.44, 1.447, 1.4475, 1.448, 1.45, 1.5$:**\\\n",
        "\\\n",
        "$$ f(x) = x^3 - 3x^2 + 2x$$\n",
        "$$ f'(x) = 3x^2 - 6x + 2 $$"
      ],
      "metadata": {
        "id": "Ua4T4WuI3t8c"
      }
    },
    {
      "cell_type": "markdown",
      "source": [
        "Using Newton's method with different initial guesses: $ 1.4, 1.44, 1.447, 1.4475, 1.448, 1.45, 1.5$\n"
      ],
      "metadata": {
        "id": "R1U6USTC3gxa"
      }
    },
    {
      "cell_type": "code",
      "source": [
        "f_2iii = x**3 - 3*x**2 + 2*x\n",
        "f_2iii_prime = diff(f_2iii, x)\n",
        "\n",
        "# Initial guesses\n",
        "initial_guesses_2iii = [1.4, 1.44, 1.447, 1.4475, 1.448, 1.45, 1.5]\n",
        "\n",
        "# Applying Newton's method for each initial guess\n",
        "results_2iii = [(guess, newtons_method(f_2iii, f_2iii_prime, guess)) for guess in initial_guesses_2iii]\n",
        "results_2iii"
      ],
      "metadata": {
        "colab": {
          "base_uri": "https://localhost:8080/"
        },
        "id": "RxZETLLb3xBc",
        "outputId": "a6f4ac71-3d50-4dbf-bb7a-1077afeaf49a"
      },
      "execution_count": 10,
      "outputs": [
        {
          "output_type": "execute_result",
          "data": {
            "text/plain": [
              "[(1.4, (1.00000000000184, 4)),\n",
              " (1.44, (1.00000000000000, 6)),\n",
              " (1.447, (1.00000000000000, 8)),\n",
              " (1.4475, (2.00000000000003, 9)),\n",
              " (1.448, (-4.21212635720570e-10, 9)),\n",
              " (1.45, (-5.58592180485967e-11, 13)),\n",
              " (1.5, (0, 2))]"
            ]
          },
          "metadata": {},
          "execution_count": 10
        }
      ]
    },
    {
      "cell_type": "markdown",
      "source": [
        "$$ f(x) = x^3 - 3x^2 + 2x$$\n",
        "\n",
        "| Initial Guess      | Approximate solution| No. of iterations|\n",
        "|---------|----------|----------|\n",
        "|1.4      | 1.0000   | 4   |\n",
        "|1.44     | 1.0000   |6    |\n",
        "|1.447    | 1.0000   | 8   |\n",
        "|1.4475   | 1.0000   | 9   |\n",
        "|1.448    | 0.0000   | 9   |\n",
        "|1.45     | 0.0000   |13   |\n",
        "|1.5      | 0.0000   | 2   |"
      ],
      "metadata": {
        "id": "C3XPtQMT3yVU"
      }
    },
    {
      "cell_type": "markdown",
      "source": [
        "## **Problem 3**"
      ],
      "metadata": {
        "id": "FXu_ei7s3z6k"
      }
    },
    {
      "cell_type": "markdown",
      "source": [
        "**(i) Graph the following system in the plane and mark the solutions to the system:**\n",
        "\\\n",
        " $$  x^2 + y^2 = 4 $$\n",
        " $$  e^x + y = 1 $$"
      ],
      "metadata": {
        "id": "iRelizEY9pxO"
      }
    },
    {
      "cell_type": "code",
      "source": [
        "import matplotlib.pyplot as plt\n",
        "import numpy as np\n",
        "\n",
        "x_values = np.linspace(-3, 3, 400)\n",
        "y_values_1 = np.sqrt(4 - x_values**2)  # Solving x^2 + y^2 = 4 for y\n",
        "y_values_2 = -np.exp(x_values) + 1  # Solving x + y = 1 for y\n",
        "\n",
        "plt.figure(figsize=(8, 8))\n",
        "plt.plot(x_values, y_values_1, label=r'$x^2 + y^2 = 4$')\n",
        "plt.plot(x_values, -y_values_1, label=r'$x^2 + y^2 = 4$')\n",
        "plt.plot(x_values, y_values_2, label=r'$e^x + y = 1$')\n",
        "plt.xlabel('x')\n",
        "plt.ylabel('y')\n",
        "plt.title('Graph of the System of Nonlinear Equations')\n",
        "plt.legend()\n",
        "plt.show()\n"
      ],
      "metadata": {
        "colab": {
          "base_uri": "https://localhost:8080/",
          "height": 754
        },
        "id": "JOjeoVXB357r",
        "outputId": "017d11ea-205c-446c-d6dc-9193b7fe457a"
      },
      "execution_count": 11,
      "outputs": [
        {
          "output_type": "stream",
          "name": "stderr",
          "text": [
            "<ipython-input-11-a24216ec3d6d>:5: RuntimeWarning: invalid value encountered in sqrt\n",
            "  y_values_1 = np.sqrt(4 - x_values**2)  # Solving x^2 + y^2 = 4 for y\n"
          ]
        },
        {
          "output_type": "display_data",
          "data": {
            "text/plain": [
              "<Figure size 800x800 with 1 Axes>"
            ],
            "image/png": "[encoded data removed]"
          },
          "metadata": {}
        }
      ]
    },
    {
      "cell_type": "markdown",
      "source": [
        "**(ii)  Jacobian of the system:**"
      ],
      "metadata": {
        "id": "iVbWSnO4-iCb"
      }
    },
    {
      "cell_type": "markdown",
      "source": [
        "The Jacobian matrix for a system of two functions $ f(x, y) $ and $ g(x, y) $ is given by:\n",
        "\\\n",
        "$$ J = \\begin{bmatrix} \\frac{\\partial f}{\\partial x} & \\frac{\\partial f}{\\partial y} \\\\ \\frac{\\partial g}{\\partial x} & \\frac{\\partial g}{\\partial y} \\end{bmatrix} $$\n",
        "\n",
        "Here, $ f(x, y) = x^2 + y^2 - 4 $ and $ g(x, y) = e^x + y - 1 $\n"
      ],
      "metadata": {
        "id": "2JSYOLb_37xr"
      }
    },
    {
      "cell_type": "code",
      "source": [
        "# Calculating the Jacobian\n",
        "from sympy import symbols, diff\n",
        "\n",
        "x, y = symbols('x y')\n",
        "f = x**2 + y**2 - 4\n",
        "g = exp(x) + y - 1\n",
        "\n",
        "Jacobian = [[diff(f, x), diff(f, y)], [diff(g, x), diff(g, y)]]\n",
        "Jacobian"
      ],
      "metadata": {
        "id": "6y-lgsnd3_GT",
        "colab": {
          "base_uri": "https://localhost:8080/"
        },
        "outputId": "2478bf4f-6dd5-4baf-dfef-c8352b284ee7"
      },
      "execution_count": 12,
      "outputs": [
        {
          "output_type": "execute_result",
          "data": {
            "text/plain": [
              "[[2*x, 2*y], [exp(x), 1]]"
            ]
          },
          "metadata": {},
          "execution_count": 12
        }
      ]
    },
    {
      "cell_type": "markdown",
      "source": [
        "**(iii) Solving the system using Newton's method with initial points $x_0 = (1,1)^T$ and identifying the solution it converges to:**"
      ],
      "metadata": {
        "id": "RyLATNCj_B7y"
      }
    },
    {
      "cell_type": "markdown",
      "source": [
        "Newton's method for a system of nonlinear equations,\n",
        "$$ \\begin{bmatrix} x_{n+1} \\\\ y_{n+1} \\end{bmatrix} = \\begin{bmatrix} x_n \\\\ y_n \\end{bmatrix} - J^{-1} \\begin{bmatrix} f(x_n, y_n) \\\\ g(x_n, y_n) \\end{bmatrix} $$\n",
        "Initial point =  $ (1, 1)^T $.\n"
      ],
      "metadata": {
        "id": "4HqkRp_D4BEE"
      }
    },
    {
      "cell_type": "code",
      "source": [
        "import numpy as np\n",
        "import sympy as sp\n",
        "\n",
        "def newtons_method_system(f_sym, g_sym, x_sym, y_sym, initial_point, tolerance=1e-4, max_iterations=50):\n",
        "    # Computing the Jacobian matrix symbolically\n",
        "    J_sym = sp.Matrix([f_sym, g_sym]).jacobian([x_sym, y_sym])\n",
        "\n",
        "    # Converting symbolic expressions to numerical functions using lambdify\n",
        "    f = sp.lambdify((x_sym, y_sym), f_sym, 'numpy')\n",
        "    g = sp.lambdify((x_sym, y_sym), g_sym, 'numpy')\n",
        "    J = sp.lambdify((x_sym, y_sym), J_sym, 'numpy')\n",
        "\n",
        "    iteration_count = 0\n",
        "\n",
        "    # Newton's method\n",
        "    x_n = np.array(initial_point, dtype=float)\n",
        "    for _ in range(max_iterations):\n",
        "        J_inv = np.linalg.inv(J(*x_n))\n",
        "        F_val = np.array([f(*x_n), g(*x_n)])\n",
        "        x_next = x_n - np.dot(J_inv, F_val)\n",
        "\n",
        "        iteration_count += 1\n",
        "\n",
        "        if np.linalg.norm(x_next - x_n) < tolerance:\n",
        "            return x_next, iteration_count\n",
        "        x_n = x_next\n",
        "\n",
        "    return x_n, iteration_count\n",
        "\n",
        "x_sym, y_sym = sp.symbols('x y')\n",
        "\n",
        "# Defining functions symbolically\n",
        "f_sym = x_sym**2 + y_sym**2 - 4\n",
        "g_sym = sp.exp(x_sym) + y_sym - 1\n",
        "\n",
        "initial_point = (1, 1)\n",
        "\n",
        "# Applying Newton's method\n",
        "result, iterations = newtons_method_system(f_sym, g_sym, x_sym, y_sym, initial_point)\n",
        "print(\"Solution:\", result)\n",
        "print(\"Iterations:\", iterations)\n"
      ],
      "metadata": {
        "id": "pTW7Obd04CcT",
        "colab": {
          "base_uri": "https://localhost:8080/"
        },
        "outputId": "23cee4b9-1d9d-4a2d-da7a-c4c7e1f6ee28"
      },
      "execution_count": 13,
      "outputs": [
        {
          "output_type": "stream",
          "name": "stdout",
          "text": [
            "Solution: [-1.81626407  0.8373678 ]\n",
            "Iterations: 7\n"
          ]
        }
      ]
    },
    {
      "cell_type": "markdown",
      "source": [
        "Using Newton's method with the initial point  $(1,1)^T$ , the system converges to a different solution: approximately  $(−1.8163,0.8374)$  in 7 iterations.\n"
      ],
      "metadata": {
        "id": "bWPxFj_z4D07"
      }
    },
    {
      "cell_type": "markdown",
      "source": [
        "**(iv) Can you start with initial condition $x_0 = (0,0)^T? $**\\\n",
        "\\\n",
        "Applying Newton's method with the initial condition\n",
        "$x_0 =(0,0) ^T$\n",
        "  results in a \"matrix is numerically singular\" error. This indicates that the Jacobian matrix at this point is singular (i.e., not invertible), which prevents the method from proceeding. Therefore, we cannot start Newton's method with the initial condition\n",
        "$x_0 =(0,0) ^T$."
      ],
      "metadata": {
        "id": "JHaNRDOPGyma"
      }
    },
    {
      "cell_type": "code",
      "source": [
        "# Newton's method with an alternate initial point\n",
        "alternate_initial_point = (0,0)\n",
        "alternate_solution, alternate_num_iterations = newtons_method_system(f_sym, g_sym, x_sym, y_sym, alternate_initial_point)\n",
        "print(\"Solution:\", alternate_solution)\n",
        "print(\"Iterations:\", alternate_num_iterations)"
      ],
      "metadata": {
        "colab": {
          "base_uri": "https://localhost:8080/",
          "height": 405
        },
        "id": "kk8ebfH8FZUS",
        "outputId": "bfaba647-1dc1-4370-f926-c57f5ffa1a26"
      },
      "execution_count": 14,
      "outputs": [
        {
          "output_type": "error",
          "ename": "LinAlgError",
          "evalue": "ignored",
          "traceback": [
            "\u001b[0;31m---------------------------------------------------------------------------\u001b[0m",
            "\u001b[0;31mLinAlgError\u001b[0m                               Traceback (most recent call last)",
            "\u001b[0;32m<ipython-input-14-b6bef05d5919>\u001b[0m in \u001b[0;36m<cell line: 3>\u001b[0;34m()\u001b[0m\n\u001b[1;32m      1\u001b[0m \u001b[0;31m# Newton's method with an alternate initial point\u001b[0m\u001b[0;34m\u001b[0m\u001b[0;34m\u001b[0m\u001b[0m\n\u001b[1;32m      2\u001b[0m \u001b[0malternate_initial_point\u001b[0m \u001b[0;34m=\u001b[0m \u001b[0;34m(\u001b[0m\u001b[0;36m0\u001b[0m\u001b[0;34m,\u001b[0m\u001b[0;36m0\u001b[0m\u001b[0;34m)\u001b[0m\u001b[0;34m\u001b[0m\u001b[0;34m\u001b[0m\u001b[0m\n\u001b[0;32m----> 3\u001b[0;31m \u001b[0malternate_solution\u001b[0m\u001b[0;34m,\u001b[0m \u001b[0malternate_num_iterations\u001b[0m \u001b[0;34m=\u001b[0m \u001b[0mnewtons_method_system\u001b[0m\u001b[0;34m(\u001b[0m\u001b[0mf_sym\u001b[0m\u001b[0;34m,\u001b[0m \u001b[0mg_sym\u001b[0m\u001b[0;34m,\u001b[0m \u001b[0mx_sym\u001b[0m\u001b[0;34m,\u001b[0m \u001b[0my_sym\u001b[0m\u001b[0;34m,\u001b[0m \u001b[0malternate_initial_point\u001b[0m\u001b[0;34m)\u001b[0m\u001b[0;34m\u001b[0m\u001b[0;34m\u001b[0m\u001b[0m\n\u001b[0m\u001b[1;32m      4\u001b[0m \u001b[0mprint\u001b[0m\u001b[0;34m(\u001b[0m\u001b[0;34m\"Solution:\"\u001b[0m\u001b[0;34m,\u001b[0m \u001b[0malternate_solution\u001b[0m\u001b[0;34m)\u001b[0m\u001b[0;34m\u001b[0m\u001b[0;34m\u001b[0m\u001b[0m\n\u001b[1;32m      5\u001b[0m \u001b[0mprint\u001b[0m\u001b[0;34m(\u001b[0m\u001b[0;34m\"Iterations:\"\u001b[0m\u001b[0;34m,\u001b[0m \u001b[0malternate_num_iterations\u001b[0m\u001b[0;34m)\u001b[0m\u001b[0;34m\u001b[0m\u001b[0;34m\u001b[0m\u001b[0m\n",
            "\u001b[0;32m<ipython-input-13-5126787e5ee9>\u001b[0m in \u001b[0;36mnewtons_method_system\u001b[0;34m(f_sym, g_sym, x_sym, y_sym, initial_point, tolerance, max_iterations)\u001b[0m\n\u001b[1;32m     16\u001b[0m     \u001b[0mx_n\u001b[0m \u001b[0;34m=\u001b[0m \u001b[0mnp\u001b[0m\u001b[0;34m.\u001b[0m\u001b[0marray\u001b[0m\u001b[0;34m(\u001b[0m\u001b[0minitial_point\u001b[0m\u001b[0;34m,\u001b[0m \u001b[0mdtype\u001b[0m\u001b[0;34m=\u001b[0m\u001b[0mfloat\u001b[0m\u001b[0;34m)\u001b[0m\u001b[0;34m\u001b[0m\u001b[0;34m\u001b[0m\u001b[0m\n\u001b[1;32m     17\u001b[0m     \u001b[0;32mfor\u001b[0m \u001b[0m_\u001b[0m \u001b[0;32min\u001b[0m \u001b[0mrange\u001b[0m\u001b[0;34m(\u001b[0m\u001b[0mmax_iterations\u001b[0m\u001b[0;34m)\u001b[0m\u001b[0;34m:\u001b[0m\u001b[0;34m\u001b[0m\u001b[0;34m\u001b[0m\u001b[0m\n\u001b[0;32m---> 18\u001b[0;31m         \u001b[0mJ_inv\u001b[0m \u001b[0;34m=\u001b[0m \u001b[0mnp\u001b[0m\u001b[0;34m.\u001b[0m\u001b[0mlinalg\u001b[0m\u001b[0;34m.\u001b[0m\u001b[0minv\u001b[0m\u001b[0;34m(\u001b[0m\u001b[0mJ\u001b[0m\u001b[0;34m(\u001b[0m\u001b[0;34m*\u001b[0m\u001b[0mx_n\u001b[0m\u001b[0;34m)\u001b[0m\u001b[0;34m)\u001b[0m\u001b[0;34m\u001b[0m\u001b[0;34m\u001b[0m\u001b[0m\n\u001b[0m\u001b[1;32m     19\u001b[0m         \u001b[0mF_val\u001b[0m \u001b[0;34m=\u001b[0m \u001b[0mnp\u001b[0m\u001b[0;34m.\u001b[0m\u001b[0marray\u001b[0m\u001b[0;34m(\u001b[0m\u001b[0;34m[\u001b[0m\u001b[0mf\u001b[0m\u001b[0;34m(\u001b[0m\u001b[0;34m*\u001b[0m\u001b[0mx_n\u001b[0m\u001b[0;34m)\u001b[0m\u001b[0;34m,\u001b[0m \u001b[0mg\u001b[0m\u001b[0;34m(\u001b[0m\u001b[0;34m*\u001b[0m\u001b[0mx_n\u001b[0m\u001b[0;34m)\u001b[0m\u001b[0;34m]\u001b[0m\u001b[0;34m)\u001b[0m\u001b[0;34m\u001b[0m\u001b[0;34m\u001b[0m\u001b[0m\n\u001b[1;32m     20\u001b[0m         \u001b[0mx_next\u001b[0m \u001b[0;34m=\u001b[0m \u001b[0mx_n\u001b[0m \u001b[0;34m-\u001b[0m \u001b[0mnp\u001b[0m\u001b[0;34m.\u001b[0m\u001b[0mdot\u001b[0m\u001b[0;34m(\u001b[0m\u001b[0mJ_inv\u001b[0m\u001b[0;34m,\u001b[0m \u001b[0mF_val\u001b[0m\u001b[0;34m)\u001b[0m\u001b[0;34m\u001b[0m\u001b[0;34m\u001b[0m\u001b[0m\n",
            "\u001b[0;32m/usr/local/lib/python3.10/dist-packages/numpy/core/overrides.py\u001b[0m in \u001b[0;36minv\u001b[0;34m(*args, **kwargs)\u001b[0m\n",
            "\u001b[0;32m/usr/local/lib/python3.10/dist-packages/numpy/linalg/linalg.py\u001b[0m in \u001b[0;36minv\u001b[0;34m(a)\u001b[0m\n\u001b[1;32m    550\u001b[0m     \u001b[0msignature\u001b[0m \u001b[0;34m=\u001b[0m \u001b[0;34m'D->D'\u001b[0m \u001b[0;32mif\u001b[0m \u001b[0misComplexType\u001b[0m\u001b[0;34m(\u001b[0m\u001b[0mt\u001b[0m\u001b[0;34m)\u001b[0m \u001b[0;32melse\u001b[0m \u001b[0;34m'd->d'\u001b[0m\u001b[0;34m\u001b[0m\u001b[0;34m\u001b[0m\u001b[0m\n\u001b[1;32m    551\u001b[0m     \u001b[0mextobj\u001b[0m \u001b[0;34m=\u001b[0m \u001b[0mget_linalg_error_extobj\u001b[0m\u001b[0;34m(\u001b[0m\u001b[0m_raise_linalgerror_singular\u001b[0m\u001b[0;34m)\u001b[0m\u001b[0;34m\u001b[0m\u001b[0;34m\u001b[0m\u001b[0m\n\u001b[0;32m--> 552\u001b[0;31m     \u001b[0mainv\u001b[0m \u001b[0;34m=\u001b[0m \u001b[0m_umath_linalg\u001b[0m\u001b[0;34m.\u001b[0m\u001b[0minv\u001b[0m\u001b[0;34m(\u001b[0m\u001b[0ma\u001b[0m\u001b[0;34m,\u001b[0m \u001b[0msignature\u001b[0m\u001b[0;34m=\u001b[0m\u001b[0msignature\u001b[0m\u001b[0;34m,\u001b[0m \u001b[0mextobj\u001b[0m\u001b[0;34m=\u001b[0m\u001b[0mextobj\u001b[0m\u001b[0;34m)\u001b[0m\u001b[0;34m\u001b[0m\u001b[0;34m\u001b[0m\u001b[0m\n\u001b[0m\u001b[1;32m    553\u001b[0m     \u001b[0;32mreturn\u001b[0m \u001b[0mwrap\u001b[0m\u001b[0;34m(\u001b[0m\u001b[0mainv\u001b[0m\u001b[0;34m.\u001b[0m\u001b[0mastype\u001b[0m\u001b[0;34m(\u001b[0m\u001b[0mresult_t\u001b[0m\u001b[0;34m,\u001b[0m \u001b[0mcopy\u001b[0m\u001b[0;34m=\u001b[0m\u001b[0;32mFalse\u001b[0m\u001b[0;34m)\u001b[0m\u001b[0;34m)\u001b[0m\u001b[0;34m\u001b[0m\u001b[0;34m\u001b[0m\u001b[0m\n\u001b[1;32m    554\u001b[0m \u001b[0;34m\u001b[0m\u001b[0m\n",
            "\u001b[0;32m/usr/local/lib/python3.10/dist-packages/numpy/linalg/linalg.py\u001b[0m in \u001b[0;36m_raise_linalgerror_singular\u001b[0;34m(err, flag)\u001b[0m\n\u001b[1;32m     87\u001b[0m \u001b[0;34m\u001b[0m\u001b[0m\n\u001b[1;32m     88\u001b[0m \u001b[0;32mdef\u001b[0m \u001b[0m_raise_linalgerror_singular\u001b[0m\u001b[0;34m(\u001b[0m\u001b[0merr\u001b[0m\u001b[0;34m,\u001b[0m \u001b[0mflag\u001b[0m\u001b[0;34m)\u001b[0m\u001b[0;34m:\u001b[0m\u001b[0;34m\u001b[0m\u001b[0;34m\u001b[0m\u001b[0m\n\u001b[0;32m---> 89\u001b[0;31m     \u001b[0;32mraise\u001b[0m \u001b[0mLinAlgError\u001b[0m\u001b[0;34m(\u001b[0m\u001b[0;34m\"Singular matrix\"\u001b[0m\u001b[0;34m)\u001b[0m\u001b[0;34m\u001b[0m\u001b[0;34m\u001b[0m\u001b[0m\n\u001b[0m\u001b[1;32m     90\u001b[0m \u001b[0;34m\u001b[0m\u001b[0m\n\u001b[1;32m     91\u001b[0m \u001b[0;32mdef\u001b[0m \u001b[0m_raise_linalgerror_nonposdef\u001b[0m\u001b[0;34m(\u001b[0m\u001b[0merr\u001b[0m\u001b[0;34m,\u001b[0m \u001b[0mflag\u001b[0m\u001b[0;34m)\u001b[0m\u001b[0;34m:\u001b[0m\u001b[0;34m\u001b[0m\u001b[0;34m\u001b[0m\u001b[0m\n",
            "\u001b[0;31mLinAlgError\u001b[0m: Singular matrix"
          ]
        }
      ]
    },
    {
      "cell_type": "markdown",
      "source": [
        "**(v) Finding an initial condition so that the Newton method converge to a different solution:**"
      ],
      "metadata": {
        "id": "0frZkEhbFmxE"
      }
    },
    {
      "cell_type": "markdown",
      "source": [
        "Here, we can choose a point near the intersection on the negative x-axis, such as $ (1, -2) $ and $ (-1,2)$."
      ],
      "metadata": {
        "id": "ldzkfiYnGaBR"
      }
    },
    {
      "cell_type": "code",
      "source": [
        "alternate_initial_point = (1,-2)\n",
        "alternate_solution, alternate_num_iterations = newtons_method_system(f_sym, g_sym, x_sym, y_sym, alternate_initial_point)\n",
        "print(\"Solution:\", alternate_solution)\n",
        "print(\"Iterations:\", alternate_num_iterations)"
      ],
      "metadata": {
        "id": "_wCTi64Y4HVb"
      },
      "execution_count": null,
      "outputs": []
    },
    {
      "cell_type": "markdown",
      "source": [
        "Using Newton's method with the initial point $ (1, -2) $, the system converges to a different solution: approximately $ (1.0042 -1.7296) $ in 3 iterations."
      ],
      "metadata": {
        "id": "naJX3_AFF0Jh"
      }
    },
    {
      "cell_type": "code",
      "source": [
        "alternate_initial_point = (-1,2)\n",
        "alternate_solution, alternate_num_iterations = newtons_method_system(f_sym, g_sym, x_sym, y_sym, alternate_initial_point)\n",
        "print(\"Solution:\", alternate_solution)\n",
        "print(\"Iterations:\", alternate_num_iterations)"
      ],
      "metadata": {
        "id": "RqY4Pa_6FF3G"
      },
      "execution_count": null,
      "outputs": []
    },
    {
      "cell_type": "markdown",
      "source": [
        "Using Newton's method with the initial point $ (-1, 2) $, the system converges to a different solution: approximately $ (-1.8163 ,0.8374) $ in 5 iterations."
      ],
      "metadata": {
        "id": "Shv1s4464JSr"
      }
    }
  ]
}